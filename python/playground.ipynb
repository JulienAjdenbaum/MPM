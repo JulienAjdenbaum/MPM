{
 "cells": [
  {
   "cell_type": "code",
   "execution_count": 1,
   "metadata": {
    "pycharm": {
     "name": "#%%\n"
    }
   },
   "outputs": [],
   "source": [
    "import numpy as np\n",
    "import matplotlib.pyplot as plt\n",
    "import math"
   ]
  },
  {
   "cell_type": "code",
   "execution_count": 2,
   "metadata": {
    "pycharm": {
     "name": "#%%\n"
    }
   },
   "outputs": [
    {
     "name": "stdout",
     "output_type": "stream",
     "text": [
      "[1, 2, 3]\n",
      "[[1. 1. 1.]\n",
      " [1. 1. 1.]\n",
      " [1. 1. 1.]]\n"
     ]
    }
   ],
   "source": [
    "a = [1,2,3]\n",
    "b = np.ones((3,3))\n",
    "print(a)\n",
    "print(b)"
   ]
  },
  {
   "cell_type": "code",
   "execution_count": 3,
   "metadata": {
    "pycharm": {
     "name": "#%%\n"
    }
   },
   "outputs": [
    {
     "name": "stdout",
     "output_type": "stream",
     "text": [
      "[6. 6. 6.]\n",
      "[6. 6. 6.]\n"
     ]
    }
   ],
   "source": [
    "print(a@b)\n",
    "print(np.einsum('i,ij->j',a,b))"
   ]
  },
  {
   "cell_type": "code",
   "execution_count": 4,
   "outputs": [
    {
     "name": "stdout",
     "output_type": "stream",
     "text": [
      "1000\n",
      "-4.539889921550966e-06\n"
     ]
    },
    {
     "data": {
      "text/plain": "<Figure size 640x480 with 1 Axes>",
      "image/png": "[encoded data removed]"
     },
     "metadata": {},
     "output_type": "display_data"
    }
   ],
   "source": [
    "x = np.linspace(0, 2, 1000)\n",
    "print(len(x))\n",
    "f = lambda x: (1-np.log(1+np.exp(10-10*x))/10)\n",
    "print(f(0))\n",
    "plt.plot(x, f(x))\n",
    "plt.axis('equal')\n",
    "plt.show()"
   ],
   "metadata": {
    "collapsed": false,
    "pycharm": {
     "name": "#%%\n"
    }
   }
  },
  {
   "cell_type": "code",
   "execution_count": 9,
   "outputs": [
    {
     "name": "stdout",
     "output_type": "stream",
     "text": [
      "74.17165067924576 162.5838231843407\n",
      "73.37033961048016\n",
      "1.2805539995092927 2.851809524137598\n"
     ]
    }
   ],
   "source": [
    "resolution = [0.05, 0.049, 0.049]\n",
    "Ce = [[0.02454721, 0.02416097, 0.0644928 ],\n",
    " [0.02416097, 0.25310026, 0.00743102],\n",
    " [0.0644928,  0.00743102, 0.20989219]]\n",
    "U = np.linalg.svd(Ce)[0]\n",
    "U3 = U[:, 2]\n",
    "z = U3[0] * resolution[0]\n",
    "x = U3[1] * resolution[1]\n",
    "y = U3[2] * resolution[2]\n",
    "phi = math.atan2(y, x)*180/np.pi\n",
    "theta = math.atan2(math.sqrt(x**2+y**2), z)*180/np.pi\n",
    "print(phi, theta)\n",
    "Ce = [[0.02357253, 0.02227284, 0.06436205],\n",
    " [0.02227284, 0.20017209, 0.0174685 ],\n",
    " [0.06436205, 0.0174685 , 0.21842065]]\n",
    "U = np.linalg.svd(Ce)[0]\n",
    "U3 = U[:, 2]\n",
    "z = U3[0] * resolution[0]\n",
    "x = U3[1] * resolution[1]\n",
    "y = U3[2] * resolution[2]\n",
    "phi = math.atan2(y, x)\n",
    "theta = math.atan2(math.sqrt(x**2+y**2), z)\n",
    "\n",
    "print(math.acos(x/np.sqrt(x**2+y**2))*180/np.pi)\n",
    "\n",
    "print(phi, theta)\n"
   ],
   "metadata": {
    "collapsed": false,
    "pycharm": {
     "name": "#%%\n"
    }
   }
  },
  {
   "cell_type": "code",
   "execution_count": 139,
   "outputs": [],
   "source": [
    "def genD(ang, var):\n",
    "    Rx = np.array([[1, 0, 0], [0, np.cos(ang[0]), -np.sin(ang[0])], [0, np.sin(ang[0]), np.cos(ang[0])]])\n",
    "    Ry = np.array([[np.cos(ang[1]), 0, np.sin(ang[1])],\n",
    "                   [0, 1, 0],\n",
    "                   [-np.sin(ang[1]), 0, np.cos(ang[1])]])\n",
    "    Rz = np.array([[np.cos(ang[2]), -np.sin(ang[2]), 0],\n",
    "                   [np.sin(ang[2]), np.cos(ang[2]), 0],\n",
    "                   [0, 0, 1]])\n",
    "\n",
    "    R_tot = Rx @ Ry @ Rz\n",
    "    # R = np.eye(3)\n",
    "    print(\"R\", np.round(R_tot, 3))\n",
    "    print(var)\n",
    "    print(\"sigma\", np.round(R_tot @ np.diag(var) @ np.linalg.inv(R_tot), 3))\n",
    "    # print(np.linalg.inv(R @ np.diag(var.T) @ R.T))\n",
    "    return np.linalg.inv(R_tot @ np.diag(var) @ np.linalg.inv(R_tot))"
   ],
   "metadata": {
    "collapsed": false,
    "pycharm": {
     "name": "#%%\n"
    }
   }
  },
  {
   "cell_type": "code",
   "execution_count": 188,
   "outputs": [
    {
     "name": "stdout",
     "output_type": "stream",
     "text": [
      "[42.46609001  8.66654898  8.66654898]\n",
      "R [[ 1.     0.     0.   ]\n",
      " [ 0.     0.985 -0.174]\n",
      " [ 0.     0.174  0.985]]\n",
      "(4, 1, 2)\n",
      "sigma [[ 4.     0.     0.   ]\n",
      " [ 0.     1.03  -0.171]\n",
      " [ 0.    -0.171  1.97 ]]\n",
      "Dtrue [[0.25  0.    0.   ]\n",
      " [0.    0.985 0.086]\n",
      " [0.    0.086 0.515]]\n",
      "-180.0 90.0\n",
      "sigma [[ 4.     0.     0.   ]\n",
      " [ 0.     1.03  -0.171]\n",
      " [ 0.    -0.171  1.97 ]]\n",
      "[[ 1.     0.     0.   ]\n",
      " [ 0.    -0.174  0.985]\n",
      " [ 0.     0.985  0.174]]\n",
      "[-80.   0.  -0.]\n"
     ]
    }
   ],
   "source": [
    "\n",
    "FWMH = np.array((5, 1, 1))\n",
    "C = np.divide(FWMH/(2*np.sqrt(2*np.log(2))), resolution)\n",
    "print(C)\n",
    "C = (4, 1, 2)\n",
    "angle = np.array([10, 0, 0])/180*np.pi\n",
    "Dtrue = genD(angle, C)\n",
    "print(\"Dtrue\", np.round(Dtrue, 3))\n",
    "\n",
    "# U = np.linalg.svd(np.linalg.inv(Dtrue))[0]\n",
    "# print(U)\n",
    "# z = U3[0] * resolution[0]\n",
    "# x = U3[1] * resolution[1]\n",
    "# y = U3[2] * resolution[2]\n",
    "# phi = math.atan2(y, x)\n",
    "# theta = math.atan2(math.sqrt(x**2+y**2), z)\n",
    "#\n",
    "# print(math.acos(x/np.sqrt(x**2+y**2))*180/np.pi)\n",
    "\n",
    "print(phi*180/np.pi, theta*180/np.pi)\n",
    "\n",
    "sigma = np.linalg.inv(Dtrue)\n",
    "print(\"sigma\", np.round(sigma, 3))\n",
    "U = np.linalg.svd(sigma)[0]\n",
    "print(np.round(U, 3))\n",
    "\n",
    "R = U\n",
    "thet_x = -math.atan2(R[1, 2], R[2, 2])\n",
    "thet_y = math.atan2(R[0, 2], np.sqrt(R[1, 2]**2 + R[2, 2]**2))\n",
    "thet_z = -math.atan2(R[0, 1], R[0, 0])\n",
    "print(np.array([thet_x, thet_y, thet_z])*180/np.pi)\n",
    "\n",
    "# R = U\n",
    "# thet_x = math.atan2(R[2, 1], R[2, 2])\n",
    "# thet_y = math.atan2(R[2, 0], np.sqrt(R[2, 1]**2 + R[2, 2]**2))\n",
    "# thet_z = math.atan2(R[1, 0], R[0, 0])\n",
    "# print(math.acos(x/np.sqrt(x**2+y**2))*180/np.pi)\n",
    "# #\n",
    "# # print(thet_x*180/np.pi, thet_y*180/np.pi, thet_z*180/np.pi)\n",
    "#\n",
    "# from scipy.spatial.transform import Rotation as R\n",
    "#\n",
    "# r = R.from_euler(sigma)\n",
    "# print(r.as_euler('zxy', degrees=True))"
   ],
   "metadata": {
    "collapsed": false,
    "pycharm": {
     "name": "#%%\n"
    }
   }
  },
  {
   "cell_type": "code",
   "execution_count": 224,
   "outputs": [
    {
     "name": "stdout",
     "output_type": "stream",
     "text": [
      "[[4 0 0]\n",
      " [0 1 0]\n",
      " [0 0 1]]\n",
      "R \n",
      " [[ 0.81379768 -0.29619813  0.5       ]\n",
      " [ 0.56401402  0.60992316 -0.5566704 ]\n",
      " [-0.14007684  0.73502409  0.66341395]]\n",
      "[ 0.58114829 -0.7898041   0.1961534 ]\n",
      "angles SVD :  166.0523887323879 35.53134776280418\n",
      "[ 177.18673057   27.4430844  -146.92632841]\n"
     ]
    }
   ],
   "source": [
    "A = np.diag((4, 1, 1))\n",
    "print(A)\n",
    "\n",
    "ang = np.array([40, 30, 20])/180*np.pi\n",
    "\n",
    "Rx = np.array([[1, 0, 0], [0, np.cos(ang[0]), -np.sin(ang[0])], [0, np.sin(ang[0]), np.cos(ang[0])]])\n",
    "Ry = np.array([[np.cos(ang[1]), 0, np.sin(ang[1])],\n",
    "               [0, 1, 0],\n",
    "               [-np.sin(ang[1]), 0, np.cos(ang[1])]])\n",
    "Rz = np.array([[np.cos(ang[2]), -np.sin(ang[2]), 0],\n",
    "               [np.sin(ang[2]), np.cos(ang[2]), 0],\n",
    "               [0, 0, 1]])\n",
    "\n",
    "R = Rx @ Ry @ Rz\n",
    "\n",
    "print(\"R \\n\", R)\n",
    "\n",
    "sigma = R@A@R.T\n",
    "\n",
    "print(np.linalg.svd(sigma)[0][:, 2])\n",
    "U3 = np.linalg.svd(sigma)[0][:, 2]\n",
    "z = U3[0]\n",
    "x = U3[1]\n",
    "y = U3[2]\n",
    "phi = math.atan2(y, x)/ np.pi*180\n",
    "if phi<0:\n",
    "    phi+=180\n",
    "thet = 90-math.atan2(np.sqrt(x**2+y**2), z) / np.pi*180\n",
    "print(\"angles SVD : \", phi, thet)\n",
    "\n",
    "from scipy.spatial.transform import Rotation\n",
    "r = Rotation.from_matrix(np.linalg.svd(sigma)[0])\n",
    "print(r.as_euler('xyz', degrees=True))\n",
    "\n",
    "# print(np.linalg.eigh(sigma)[0])\n",
    "# U = np.linalg.eigh(sigma)[1]\n",
    "# print(\"U \\n\", U)\n",
    "#\n",
    "# R = U\n",
    "# thet_x = -math.atan2(R[1, 2], R[2, 2])\n",
    "# thet_y = math.atan2(R[0, 2], np.sqrt(R[1, 2]**2 + R[2, 2]**2))\n",
    "# thet_z = -math.atan2(R[0, 1], R[0, 0])\n",
    "# print(np.array([thet_x, thet_y, thet_z])*180/np.pi)\n",
    "#\n",
    "# V = np.linalg.svd(sigma)[2]\n",
    "# print(\"V \\n\", V)\n",
    "#\n",
    "# R = V\n",
    "# thet_x = -math.atan2(R[1, 2], R[2, 2])\n",
    "# thet_y = math.atan2(R[0, 2], np.sqrt(R[1, 2]**2 + R[2, 2]**2))\n",
    "# thet_z = -math.atan2(R[0, 1], R[0, 0])\n",
    "# print(np.array([thet_x, thet_y, thet_z])*180/np.pi)\n",
    "\n",
    "\n",
    "# sigma = R@A@R.T\n",
    "# D = np.linalg.inv(sigma)\n",
    "# print(D)\n",
    "# print(np.linalg.svd(D))\n",
    "# U = np.linalg.svd(D)[0]\n",
    "# print(\"U\", U)\n",
    "# U_inv = np.linalg.inv(U)\n",
    "# print(\"U inv\", U@U_inv)\n",
    "# print(math.atan2(U[0, 1], U[0, 0]))\n",
    "#\n",
    "# from scipy.spatial.transform import Rotation\n",
    "#\n",
    "# print(U_inv)\n",
    "# r = Rotation.from_matrix(R)\n",
    "# print(r.as_euler('xyz', degrees=True))\n",
    "# print(r.as_rotvec()/np.pi*180)\n",
    "# print(r.as_mrp())\n",
    "# print(r.as_quat())"
   ],
   "metadata": {
    "collapsed": false,
    "pycharm": {
     "name": "#%%\n"
    }
   }
  },
  {
   "cell_type": "code",
   "execution_count": 88,
   "outputs": [
    {
     "name": "stdout",
     "output_type": "stream",
     "text": [
      "roll =  2.6335\n",
      "pitch =  0.4506\n",
      "yaw =  1.1684\n",
      "\n",
      "1.9835417444319592 1.4880895033958756 -0.11874453805958061\n"
     ]
    }
   ],
   "source": [
    "import math\n",
    "import numpy as np\n",
    "\n",
    "# RPY/Euler angles to Rotation Vector\n",
    "def euler_to_rotVec(yaw, pitch, roll):\n",
    "    # compute the rotation matrix\n",
    "    Rmat = euler_to_rotMat(yaw, pitch, roll)\n",
    "    \n",
    "    theta = math.acos(((Rmat[0, 0] + Rmat[1, 1] + Rmat[2, 2]) - 1) / 2)\n",
    "    sin_theta = math.sin(theta)\n",
    "    if sin_theta == 0:\n",
    "        rx, ry, rz = 0.0, 0.0, 0.0\n",
    "    else:\n",
    "        multi = 1 / (2 * math.sin(theta))\n",
    "        rx = multi * (Rmat[2, 1] - Rmat[1, 2]) * theta\n",
    "        ry = multi * (Rmat[0, 2] - Rmat[2, 0]) * theta\n",
    "        rz = multi * (Rmat[1, 0] - Rmat[0, 1]) * theta\n",
    "    return rx, ry, rz\n",
    "\n",
    "def euler_to_rotMat(yaw, pitch, roll):\n",
    "    Rz_yaw = np.array([\n",
    "        [np.cos(yaw), -np.sin(yaw), 0],\n",
    "        [np.sin(yaw),  np.cos(yaw), 0],\n",
    "        [          0,            0, 1]])\n",
    "    Ry_pitch = np.array([\n",
    "        [ np.cos(pitch), 0, np.sin(pitch)],\n",
    "        [             0, 1,             0],\n",
    "        [-np.sin(pitch), 0, np.cos(pitch)]])\n",
    "    Rx_roll = np.array([\n",
    "        [1,            0,             0],\n",
    "        [0, np.cos(roll), -np.sin(roll)],\n",
    "        [0, np.sin(roll),  np.cos(roll)]])\n",
    "    # R = RzRyRx\n",
    "    rotMat = np.dot(Rz_yaw, np.dot(Ry_pitch, Rx_roll))\n",
    "    return rotMat\n",
    "\n",
    "roll = 2.6335\n",
    "pitch = 0.4506\n",
    "yaw = 1.1684\n",
    "\n",
    "print(\"roll = \", roll)\n",
    "print(\"pitch = \", pitch)\n",
    "print(\"yaw = \", yaw)\n",
    "print(\"\")\n",
    "\n",
    "rx, ry, rz = euler_to_rotVec(yaw, pitch, roll)\n",
    "\n",
    "print(rx, ry, rz)"
   ],
   "metadata": {
    "collapsed": false,
    "pycharm": {
     "name": "#%%\n"
    }
   }
  },
  {
   "cell_type": "code",
   "execution_count": 8,
   "outputs": [
    {
     "name": "stdout",
     "output_type": "stream",
     "text": [
      "gv.plot  False\n"
     ]
    },
    {
     "data": {
      "text/plain": "<Figure size 640x480 with 1 Axes>",
      "image/png": "[encoded data removed]"
     },
     "metadata": {},
     "output_type": "display_data"
    },
    {
     "data": {
      "text/plain": "<Figure size 640x480 with 1 Axes>",
      "image/png": "[encoded data removed]"
     },
     "metadata": {},
     "output_type": "display_data"
    }
   ],
   "source": [
    "from skimage import io as skio\n",
    "a = skio.imread(\"/home/julin/Téléchargements/Estimation PSF billes 0.2um/mycrops10_P.tif\")\n",
    "import observation3D\n",
    "observation3D.observ(a, 0, \"a\")"
   ],
   "metadata": {
    "collapsed": false,
    "pycharm": {
     "name": "#%%\n"
    }
   }
  },
  {
   "cell_type": "code",
   "execution_count": 8,
   "outputs": [],
   "source": [],
   "metadata": {
    "collapsed": false,
    "pycharm": {
     "name": "#%%\n"
    }
   }
  }
 ],
 "metadata": {
  "kernelspec": {
   "display_name": "Python 3",
   "language": "python",
   "name": "python3"
  },
  "language_info": {
   "codemirror_mode": {
    "name": "ipython",
    "version": 3
   },
   "file_extension": ".py",
   "mimetype": "text/x-python",
   "name": "python",
   "nbconvert_exporter": "python",
   "pygments_lexer": "ipython3",
   "version": "3.8.5"
  }
 },
 "nbformat": 4,
 "nbformat_minor": 4
}